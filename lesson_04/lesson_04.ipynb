{
 "cells": [
  {
   "cell_type": "markdown",
   "id": "f57a2003",
   "metadata": {},
   "source": [
    "# Numeric operators"
   ]
  },
  {
   "cell_type": "markdown",
   "id": "9b97d295",
   "metadata": {},
   "source": [
    "### Basic operators"
   ]
  },
  {
   "cell_type": "markdown",
   "source": [
    "How vars are stored in memory"
   ],
   "metadata": {
    "collapsed": false
   }
  },
  {
   "cell_type": "code",
   "execution_count": 4,
   "id": "730b4748",
   "metadata": {},
   "outputs": [
    {
     "data": {
      "text/plain": "int"
     },
     "execution_count": 4,
     "metadata": {},
     "output_type": "execute_result"
    }
   ],
   "source": [
    "x = 5\n",
    "type(x)"
   ]
  },
  {
   "cell_type": "markdown",
   "source": [
    "<img src=\"img/x_is_5.png\"/>"
   ],
   "metadata": {
    "collapsed": false
   }
  },
  {
   "cell_type": "markdown",
   "source": [
    "We can reassign variable. In this case we just change the reference"
   ],
   "metadata": {
    "collapsed": false
   }
  },
  {
   "cell_type": "code",
   "execution_count": 21,
   "outputs": [
    {
     "name": "stdout",
     "output_type": "stream",
     "text": [
      "Python\n",
      "<class 'str'>\n",
      "42.42\n",
      "<class 'float'>\n"
     ]
    }
   ],
   "source": [
    "x = \"Python\"\n",
    "print(x)\n",
    "print(type(x))\n",
    "\n",
    "x = 42.42\n",
    "print(x)\n",
    "print(type(x))"
   ],
   "metadata": {
    "collapsed": false
   }
  },
  {
   "cell_type": "markdown",
   "source": [
    "![](img/x_to_different.png)"
   ],
   "metadata": {
    "collapsed": false
   }
  },
  {
   "cell_type": "markdown",
   "source": [
    "Variable can be assigned to another variable. In this case we create new reference."
   ],
   "metadata": {
    "collapsed": false
   }
  },
  {
   "cell_type": "code",
   "execution_count": 15,
   "outputs": [
    {
     "name": "stdout",
     "output_type": "stream",
     "text": [
      "Python\n",
      "Python\n",
      "<class 'str'>\n",
      "<class 'str'>\n"
     ]
    }
   ],
   "source": [
    "a = x\n",
    "b = a\n",
    "print(a)\n",
    "print(b)\n",
    "print(type(a))\n",
    "print(type(b))"
   ],
   "metadata": {
    "collapsed": false
   }
  },
  {
   "cell_type": "markdown",
   "source": [
    "![](img/shared_ref.png)"
   ],
   "metadata": {
    "collapsed": false
   }
  },
  {
   "cell_type": "markdown",
   "source": [
    "Existing variable can be assigned to another variable. In this case we create new reference."
   ],
   "metadata": {
    "collapsed": false
   }
  },
  {
   "cell_type": "code",
   "execution_count": 22,
   "outputs": [
    {
     "name": "stdout",
     "output_type": "stream",
     "text": [
      "Hillel IT School\n",
      "<class 'str'>\n"
     ]
    }
   ],
   "source": [
    "x = 'Hillel IT School'\n",
    "print(x)\n",
    "print(type(x))"
   ],
   "metadata": {
    "collapsed": false
   }
  },
  {
   "cell_type": "markdown",
   "source": [
    "![](img/shared_ref_reassign.png)"
   ],
   "metadata": {
    "collapsed": false
   }
  },
  {
   "cell_type": "markdown",
   "source": [
    "Variable can be used in expression"
   ],
   "metadata": {
    "collapsed": false
   }
  },
  {
   "cell_type": "code",
   "execution_count": 28,
   "outputs": [
    {
     "name": "stdout",
     "output_type": "stream",
     "text": [
      "6\n",
      "<class 'int'>\n"
     ]
    }
   ],
   "source": [
    "b = a + 1\n",
    "print(b)\n",
    "print(type(b))"
   ],
   "metadata": {
    "collapsed": false
   }
  },
  {
   "cell_type": "markdown",
   "id": "ed4e7075",
   "metadata": {},
   "source": [
    "Note order of execution: from left to right"
   ]
  },
  {
   "cell_type": "code",
   "execution_count": 2,
   "id": "21d70ce1",
   "metadata": {},
   "outputs": [],
   "source": [
    "a = 2 + 3 + 4\n",
    "# is implicitly equal to\n",
    "a = (2 + 3) + 4"
   ]
  },
  {
   "cell_type": "markdown",
   "id": "4a78321a",
   "metadata": {},
   "source": [
    "If float participte in operation it always yields float result"
   ]
  },
  {
   "cell_type": "code",
   "execution_count": 3,
   "id": "a28e3baa",
   "metadata": {},
   "outputs": [
    {
     "name": "stdout",
     "output_type": "stream",
     "text": [
      "5.0\n",
      "<class 'float'>\n"
     ]
    }
   ],
   "source": [
    "a = 2 + 3.0\n",
    "print(a)\n",
    "print(type(a))"
   ]
  },
  {
   "cell_type": "code",
   "execution_count": 4,
   "id": "8cf1c217",
   "metadata": {},
   "outputs": [
    {
     "name": "stdout",
     "output_type": "stream",
     "text": [
      "6.0\n",
      "<class 'float'>\n"
     ]
    }
   ],
   "source": [
    "a = 2 * 3.0\n",
    "print(a)\n",
    "print(type(a))"
   ]
  },
  {
   "cell_type": "markdown",
   "id": "a697d3ac",
   "metadata": {},
   "source": [
    "Note that the result type is float even if operands are integers"
   ]
  },
  {
   "cell_type": "code",
   "execution_count": 11,
   "id": "af578c50",
   "metadata": {},
   "outputs": [
    {
     "name": "stdout",
     "output_type": "stream",
     "text": [
      "4.0\n",
      "<class 'float'>\n"
     ]
    }
   ],
   "source": [
    "a = 8 / 2\n",
    "print(a)\n",
    "print(type(a))"
   ]
  },
  {
   "cell_type": "code",
   "execution_count": 12,
   "id": "f8b23fdf",
   "metadata": {},
   "outputs": [],
   "source": [
    "b = a = 3 * 3"
   ]
  },
  {
   "cell_type": "markdown",
   "id": "7eb77059",
   "metadata": {},
   "source": [
    "### Additional operators"
   ]
  },
  {
   "cell_type": "code",
   "execution_count": 7,
   "id": "a7ff517c",
   "metadata": {},
   "outputs": [
    {
     "data": {
      "text/plain": [
       "2"
      ]
     },
     "execution_count": 7,
     "metadata": {},
     "output_type": "execute_result"
    }
   ],
   "source": [
    "5 // 2"
   ]
  },
  {
   "cell_type": "code",
   "execution_count": 8,
   "id": "b334cf2b",
   "metadata": {},
   "outputs": [
    {
     "data": {
      "text/plain": [
       "2.0"
      ]
     },
     "execution_count": 8,
     "metadata": {},
     "output_type": "execute_result"
    }
   ],
   "source": [
    "5.5 // 2"
   ]
  },
  {
   "cell_type": "code",
   "execution_count": 9,
   "id": "223bf6ba",
   "metadata": {},
   "outputs": [
    {
     "data": {
      "text/plain": [
       "2.0"
      ]
     },
     "execution_count": 9,
     "metadata": {},
     "output_type": "execute_result"
    }
   ],
   "source": [
    "5 // 2.0"
   ]
  },
  {
   "cell_type": "code",
   "execution_count": 10,
   "id": "8c8e7b87",
   "metadata": {},
   "outputs": [
    {
     "data": {
      "text/plain": [
       "1"
      ]
     },
     "execution_count": 10,
     "metadata": {},
     "output_type": "execute_result"
    }
   ],
   "source": [
    "5 % 2"
   ]
  },
  {
   "cell_type": "code",
   "execution_count": 11,
   "id": "98ea2d33",
   "metadata": {},
   "outputs": [
    {
     "data": {
      "text/plain": [
       "0"
      ]
     },
     "execution_count": 11,
     "metadata": {},
     "output_type": "execute_result"
    }
   ],
   "source": [
    "6 % 2"
   ]
  },
  {
   "cell_type": "code",
   "execution_count": 12,
   "id": "02551a4c",
   "metadata": {},
   "outputs": [
    {
     "data": {
      "text/plain": [
       "8"
      ]
     },
     "execution_count": 12,
     "metadata": {},
     "output_type": "execute_result"
    }
   ],
   "source": [
    "2 ** 3"
   ]
  },
  {
   "cell_type": "code",
   "execution_count": 2,
   "id": "8c2708e8",
   "metadata": {},
   "outputs": [
    {
     "data": {
      "text/plain": [
       "5.0"
      ]
     },
     "execution_count": 2,
     "metadata": {},
     "output_type": "execute_result"
    }
   ],
   "source": [
    "25 ** 0.5"
   ]
  },
  {
   "cell_type": "code",
   "execution_count": 1,
   "id": "2e3f748c",
   "metadata": {},
   "outputs": [
    {
     "data": {
      "text/plain": [
       "12.5"
      ]
     },
     "execution_count": 1,
     "metadata": {},
     "output_type": "execute_result"
    }
   ],
   "source": [
    "25 ** 1/2"
   ]
  },
  {
   "cell_type": "markdown",
   "id": "7fdba738",
   "metadata": {},
   "source": [
    "Why do you think the above cells worked so differently?"
   ]
  },
  {
   "cell_type": "markdown",
   "id": "1af24173",
   "metadata": {},
   "source": [
    "Yes, power has greater priority. Let's fix it"
   ]
  },
  {
   "cell_type": "code",
   "execution_count": 3,
   "id": "ef2ad3bc",
   "metadata": {},
   "outputs": [
    {
     "data": {
      "text/plain": [
       "5.0"
      ]
     },
     "execution_count": 3,
     "metadata": {},
     "output_type": "execute_result"
    }
   ],
   "source": [
    "25 ** (1/2)"
   ]
  },
  {
   "cell_type": "code",
   "execution_count": 4,
   "id": "afb3fb07",
   "metadata": {},
   "outputs": [],
   "source": [
    "i = 3\n",
    "j = 4"
   ]
  },
  {
   "cell_type": "markdown",
   "id": "08fe0c07",
   "metadata": {},
   "source": [
    "Here, we calculate new value and assign it back to the variable"
   ]
  },
  {
   "cell_type": "code",
   "execution_count": 5,
   "id": "ab86ff6d",
   "metadata": {},
   "outputs": [],
   "source": [
    "i = i + 1\n",
    "j = j - 1"
   ]
  },
  {
   "cell_type": "code",
   "execution_count": 6,
   "id": "1891bd90",
   "metadata": {},
   "outputs": [
    {
     "name": "stdout",
     "output_type": "stream",
     "text": [
      "4\n",
      "3\n"
     ]
    }
   ],
   "source": [
    "print(i)\n",
    "print(j)"
   ]
  },
  {
   "cell_type": "markdown",
   "id": "06c2466d",
   "metadata": {},
   "source": [
    "The above operation is so often that there is special operator for it (shortcut):"
   ]
  },
  {
   "cell_type": "code",
   "execution_count": 19,
   "id": "a0d0cc40",
   "metadata": {},
   "outputs": [],
   "source": [
    "i += 1"
   ]
  },
  {
   "cell_type": "markdown",
   "id": "2a604ca7",
   "metadata": {},
   "source": [
    "Can be used for substraction as well"
   ]
  },
  {
   "cell_type": "code",
   "execution_count": 7,
   "id": "95fca78b",
   "metadata": {},
   "outputs": [],
   "source": [
    "j -= 1"
   ]
  },
  {
   "cell_type": "code",
   "execution_count": 9,
   "id": "0acfbc7f",
   "metadata": {},
   "outputs": [
    {
     "name": "stdout",
     "output_type": "stream",
     "text": [
      "4\n",
      "2\n"
     ]
    }
   ],
   "source": [
    "print(i)\n",
    "print(j)"
   ]
  },
  {
   "cell_type": "markdown",
   "id": "59a8ffc5",
   "metadata": {},
   "source": [
    "Can be applied for other operations:"
   ]
  },
  {
   "cell_type": "code",
   "execution_count": 13,
   "id": "cd4eaebe",
   "metadata": {},
   "outputs": [
    {
     "name": "stdout",
     "output_type": "stream",
     "text": [
      "4\n",
      "2\n",
      "9\n",
      "9\n"
     ]
    }
   ],
   "source": [
    "print(i)\n",
    "print(j)\n",
    "print(a)\n",
    "print(b)"
   ]
  },
  {
   "cell_type": "code",
   "execution_count": 14,
   "id": "151c8b75",
   "metadata": {},
   "outputs": [],
   "source": [
    "i /= 1\n",
    "j *= 5\n",
    "a %= 2\n",
    "b //= 3"
   ]
  },
  {
   "cell_type": "code",
   "execution_count": 15,
   "id": "ab9b9bf6",
   "metadata": {},
   "outputs": [
    {
     "name": "stdout",
     "output_type": "stream",
     "text": [
      "4.0\n",
      "10\n",
      "1\n",
      "3\n"
     ]
    }
   ],
   "source": [
    "print(i)\n",
    "print(j)\n",
    "print(a)\n",
    "print(b)"
   ]
  }
 ],
 "metadata": {
  "kernelspec": {
   "display_name": "Python 3 (ipykernel)",
   "language": "python",
   "name": "python3"
  },
  "language_info": {
   "codemirror_mode": {
    "name": "ipython",
    "version": 3
   },
   "file_extension": ".py",
   "mimetype": "text/x-python",
   "name": "python",
   "nbconvert_exporter": "python",
   "pygments_lexer": "ipython3",
   "version": "3.9.16"
  }
 },
 "nbformat": 4,
 "nbformat_minor": 5
}
